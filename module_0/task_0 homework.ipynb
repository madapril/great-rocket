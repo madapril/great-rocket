{
 "cells": [
  {
   "cell_type": "code",
   "execution_count": 93,
   "metadata": {},
   "outputs": [
    {
     "name": "stdout",
     "output_type": "stream",
     "text": [
      "Загадано число от 1 до 100: 51\n",
      "Вы угадали число 51 за 6 попыток.\n"
     ]
    }
   ],
   "source": [
    "import numpy as np\n",
    "number = np.random.randint(1,101)\n",
    "count = 0; right = 100; left = 1\n",
    "\n",
    "print (f'Загадано число от 1 до 100: {number}')\n",
    "\n",
    "while True:\n",
    "    count += 1\n",
    "    predict = (right + left)//2\n",
    "\n",
    "    if number == predict: break \n",
    "    elif number > predict: left = predict + 1\n",
    "    else: right = predict - 1\n",
    "    \n",
    "print(f'Вы угадали число {number} за {count} попыток.')"
   ]
  },
  {
   "cell_type": "code",
   "execution_count": null,
   "metadata": {},
   "outputs": [],
   "source": []
  }
 ],
 "metadata": {
  "kernelspec": {
   "display_name": "Python 3",
   "language": "python",
   "name": "python3"
  },
  "language_info": {
   "codemirror_mode": {
    "name": "ipython",
    "version": 3
   },
   "file_extension": ".py",
   "mimetype": "text/x-python",
   "name": "python",
   "nbconvert_exporter": "python",
   "pygments_lexer": "ipython3",
   "version": "3.8.3"
  }
 },
 "nbformat": 4,
 "nbformat_minor": 4
}
