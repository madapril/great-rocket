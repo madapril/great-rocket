{
 "cells": [
  {
   "cell_type": "code",
   "execution_count": null,
   "metadata": {},
   "outputs": [],
   "source": [
    "number = np.random.randint(1,101)       #число загадано\n",
    "print ('Загадано число от 1 до 100')\n",
    "\n",
    "count = 0\n",
    "low, hi = 1, 101\n",
    "for predict in range(1, 101):\n",
    "    while True:\n",
    "        count += 1\n",
    "        possible = (low + hi) // 2\n",
    "        count += 1\n",
    "        if number > possible:\n",
    "            low = possible + 1\n",
    "        elif number < possible:\n",
    "            hi = possible - 1\n",
    "        break   # выход из цикла, если угадали\n",
    "print ('Вы угадали число {number} за {count} попыток.')"
   ]
  }
 ],
 "metadata": {
  "kernelspec": {
   "display_name": "Python 3",
   "language": "python",
   "name": "python3"
  },
  "language_info": {
   "codemirror_mode": {
    "name": "ipython",
    "version": 3
   },
   "file_extension": ".py",
   "mimetype": "text/x-python",
   "name": "python",
   "nbconvert_exporter": "python",
   "pygments_lexer": "ipython3",
   "version": "3.8.3"
  }
 },
 "nbformat": 4,
 "nbformat_minor": 4
}
