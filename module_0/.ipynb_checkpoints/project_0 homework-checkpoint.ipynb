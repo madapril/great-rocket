{
 "cells": [
  {
   "cell_type": "code",
   "execution_count": 4,
   "metadata": {},
   "outputs": [
    {
     "name": "stdout",
     "output_type": "stream",
     "text": [
      "Загадано число от 1 до 100\n",
      "67\n",
      "Вы угадали число 67 за 7 попыток.\n"
     ]
    }
   ],
   "source": [
    "import numpy as np\n",
    "number = np.random.randint(1,101)       #число загадано\n",
    "print ('Загадано число от 1 до 100')\n",
    "print (number)\n",
    "\n",
    "count = 0\n",
    "right = 100\n",
    "left = 1\n",
    "\n",
    "while True:\n",
    "    count += 1\n",
    "    predict = (right + left)//2\n",
    "    if number == predict: break\n",
    "    elif number > predict:\n",
    "        left = predict + 1\n",
    "    elif number < predict:\n",
    "        right = predict - 1\n",
    "print(f'Вы угадали число {number} за {count} попыток.')"
   ]
  },
  {
   "cell_type": "code",
   "execution_count": null,
   "metadata": {},
   "outputs": [],
   "source": []
  },
  {
   "cell_type": "code",
   "execution_count": null,
   "metadata": {},
   "outputs": [],
   "source": []
  }
 ],
 "metadata": {
  "kernelspec": {
   "display_name": "Python 3",
   "language": "python",
   "name": "python3"
  },
  "language_info": {
   "codemirror_mode": {
    "name": "ipython",
    "version": 3
   },
   "file_extension": ".py",
   "mimetype": "text/x-python",
   "name": "python",
   "nbconvert_exporter": "python",
   "pygments_lexer": "ipython3",
   "version": "3.8.3"
  }
 },
 "nbformat": 4,
 "nbformat_minor": 4
}
